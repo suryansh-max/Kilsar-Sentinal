{
 "cells": [
  {
   "cell_type": "code",
   "execution_count": null,
   "metadata": {},
   "outputs": [],
   "source": [
    "# This was used to fetch all the images, and then save to "
   ]
  },
  {
   "cell_type": "code",
   "execution_count": 1,
   "metadata": {},
   "outputs": [],
   "source": [
    "import pandas as pd\n",
    "import glob\n",
    "import os"
   ]
  },
  {
   "cell_type": "code",
   "execution_count": 6,
   "metadata": {},
   "outputs": [],
   "source": [
    "df = pd.read_csv(\"./labels_processed.csv\")"
   ]
  },
  {
   "cell_type": "code",
   "execution_count": 30,
   "metadata": {},
   "outputs": [],
   "source": [
    "def generate_image_path(data):\n",
    "    file_path = \"/mnt/storage/Kilser_Sentinal/data_formated_jainil4/images/\" +data[:-4] + \".jpg\"\n",
    "    return file_path\n",
    "    \n",
    "def generate_json_path(data):\n",
    "    file_path = \"/mnt/storage/Kilser_Sentinal/data_formated_jainil4/labels/\" +data[:-4] + \".txt\"\n",
    "    return file_path\n",
    "\n",
    "df[\"image_path\"] = df[\"filename\"].apply(generate_image_path)\n",
    "df[\"label_path\"] = df[\"filename\"].apply(generate_json_path)"
   ]
  },
  {
   "cell_type": "code",
   "execution_count": 31,
   "metadata": {},
   "outputs": [
    {
     "data": {
      "text/html": [
       "<div>\n",
       "<style scoped>\n",
       "    .dataframe tbody tr th:only-of-type {\n",
       "        vertical-align: middle;\n",
       "    }\n",
       "\n",
       "    .dataframe tbody tr th {\n",
       "        vertical-align: top;\n",
       "    }\n",
       "\n",
       "    .dataframe thead th {\n",
       "        text-align: right;\n",
       "    }\n",
       "</style>\n",
       "<table border=\"1\" class=\"dataframe\">\n",
       "  <thead>\n",
       "    <tr style=\"text-align: right;\">\n",
       "      <th></th>\n",
       "      <th>Unnamed: 0</th>\n",
       "      <th>filename</th>\n",
       "      <th>col_1</th>\n",
       "      <th>col_2</th>\n",
       "      <th>col_3</th>\n",
       "      <th>col_4</th>\n",
       "      <th>col_5</th>\n",
       "      <th>image_path</th>\n",
       "      <th>label_path</th>\n",
       "    </tr>\n",
       "  </thead>\n",
       "  <tbody>\n",
       "    <tr>\n",
       "      <th>0</th>\n",
       "      <td>0</td>\n",
       "      <td>video_6f892664-761b-4f80-af7f-19efd72f8628_fra...</td>\n",
       "      <td>NaN</td>\n",
       "      <td>NaN</td>\n",
       "      <td>NaN</td>\n",
       "      <td>NaN</td>\n",
       "      <td>NaN</td>\n",
       "      <td>/mnt/storage/Kilser_Sentinal/data_formated_jai...</td>\n",
       "      <td>/mnt/storage/Kilser_Sentinal/data_formated_jai...</td>\n",
       "    </tr>\n",
       "    <tr>\n",
       "      <th>1</th>\n",
       "      <td>1</td>\n",
       "      <td>video_5f87e18e-ffdf-4957-9899-b5414cda66e2_fra...</td>\n",
       "      <td>0.0</td>\n",
       "      <td>0.701600</td>\n",
       "      <td>0.499934</td>\n",
       "      <td>0.043527</td>\n",
       "      <td>0.063624</td>\n",
       "      <td>/mnt/storage/Kilser_Sentinal/data_formated_jai...</td>\n",
       "      <td>/mnt/storage/Kilser_Sentinal/data_formated_jai...</td>\n",
       "    </tr>\n",
       "    <tr>\n",
       "      <th>2</th>\n",
       "      <td>2</td>\n",
       "      <td>video_862d3cfb-83e8-4d4b-b7bc-aad791bd8158_fra...</td>\n",
       "      <td>NaN</td>\n",
       "      <td>NaN</td>\n",
       "      <td>NaN</td>\n",
       "      <td>NaN</td>\n",
       "      <td>NaN</td>\n",
       "      <td>/mnt/storage/Kilser_Sentinal/data_formated_jai...</td>\n",
       "      <td>/mnt/storage/Kilser_Sentinal/data_formated_jai...</td>\n",
       "    </tr>\n",
       "    <tr>\n",
       "      <th>3</th>\n",
       "      <td>3</td>\n",
       "      <td>video_fd55126b-c832-433d-911e-e548e3bfae30_fra...</td>\n",
       "      <td>1.0</td>\n",
       "      <td>0.505000</td>\n",
       "      <td>0.528750</td>\n",
       "      <td>0.117500</td>\n",
       "      <td>0.070833</td>\n",
       "      <td>/mnt/storage/Kilser_Sentinal/data_formated_jai...</td>\n",
       "      <td>/mnt/storage/Kilser_Sentinal/data_formated_jai...</td>\n",
       "    </tr>\n",
       "    <tr>\n",
       "      <th>4</th>\n",
       "      <td>4</td>\n",
       "      <td>video_59148601-615f-4b39-b028-5b9ad5ce29ba_fra...</td>\n",
       "      <td>2.0</td>\n",
       "      <td>0.920703</td>\n",
       "      <td>0.624074</td>\n",
       "      <td>0.157031</td>\n",
       "      <td>0.371296</td>\n",
       "      <td>/mnt/storage/Kilser_Sentinal/data_formated_jai...</td>\n",
       "      <td>/mnt/storage/Kilser_Sentinal/data_formated_jai...</td>\n",
       "    </tr>\n",
       "  </tbody>\n",
       "</table>\n",
       "</div>"
      ],
      "text/plain": [
       "   Unnamed: 0                                           filename  col_1  \\\n",
       "0           0  video_6f892664-761b-4f80-af7f-19efd72f8628_fra...    NaN   \n",
       "1           1  video_5f87e18e-ffdf-4957-9899-b5414cda66e2_fra...    0.0   \n",
       "2           2  video_862d3cfb-83e8-4d4b-b7bc-aad791bd8158_fra...    NaN   \n",
       "3           3  video_fd55126b-c832-433d-911e-e548e3bfae30_fra...    1.0   \n",
       "4           4  video_59148601-615f-4b39-b028-5b9ad5ce29ba_fra...    2.0   \n",
       "\n",
       "      col_2     col_3     col_4     col_5  \\\n",
       "0       NaN       NaN       NaN       NaN   \n",
       "1  0.701600  0.499934  0.043527  0.063624   \n",
       "2       NaN       NaN       NaN       NaN   \n",
       "3  0.505000  0.528750  0.117500  0.070833   \n",
       "4  0.920703  0.624074  0.157031  0.371296   \n",
       "\n",
       "                                          image_path  \\\n",
       "0  /mnt/storage/Kilser_Sentinal/data_formated_jai...   \n",
       "1  /mnt/storage/Kilser_Sentinal/data_formated_jai...   \n",
       "2  /mnt/storage/Kilser_Sentinal/data_formated_jai...   \n",
       "3  /mnt/storage/Kilser_Sentinal/data_formated_jai...   \n",
       "4  /mnt/storage/Kilser_Sentinal/data_formated_jai...   \n",
       "\n",
       "                                          label_path  \n",
       "0  /mnt/storage/Kilser_Sentinal/data_formated_jai...  \n",
       "1  /mnt/storage/Kilser_Sentinal/data_formated_jai...  \n",
       "2  /mnt/storage/Kilser_Sentinal/data_formated_jai...  \n",
       "3  /mnt/storage/Kilser_Sentinal/data_formated_jai...  \n",
       "4  /mnt/storage/Kilser_Sentinal/data_formated_jai...  "
      ]
     },
     "execution_count": 31,
     "metadata": {},
     "output_type": "execute_result"
    }
   ],
   "source": [
    "df.head()"
   ]
  },
  {
   "cell_type": "code",
   "execution_count": 49,
   "metadata": {},
   "outputs": [],
   "source": [
    "import os\n",
    "import shutil\n",
    "\n",
    "\n",
    "def copy_path(df_row_dict):\n",
    "    file_name = df_row_dict['filename'][:-4]\n",
    "    image_filename = df_row_dict['image_path']\n",
    "    label_filename = df_row_dict[\"label_path\"]\n",
    "    label = str(df_row_dict[\"col_1\"])[:-2]\n",
    "    base_file_name = os.path.dirname(os.path.dirname(os.path.dirname(image_filename)))\n",
    "    os.makedirs(base_file_name + \"/label_wise_jainil/\"+ label + \"/labels/\", exist_ok=True)\n",
    "    os.makedirs(base_file_name + \"/label_wise_jainil/\" + label + \"/images/\", exist_ok=True)\n",
    "    image_destination = base_file_name + \"/label_wise_jainil/\"+ label + \"/images/\" + file_name + \".jpg\"\n",
    "    label_destination = base_file_name + \"/label_wise_jainil/\" + label + \"/labels/\" + file_name + \".txt\"\n",
    "    shutil.copy(image_filename, image_destination)\n",
    "    shutil.copy(label_filename, label_destination)\n",
    "    "
   ]
  },
  {
   "cell_type": "code",
   "execution_count": 50,
   "metadata": {},
   "outputs": [
    {
     "name": "stdout",
     "output_type": "stream",
     "text": [
      "Number of CPU cores available: 59\n"
     ]
    }
   ],
   "source": [
    "from multiprocessing import Pool, cpu_count\n",
    "if __name__ == '__main__':\n",
    "    # Get number of CPU cores\n",
    "    num_cores = cpu_count() - 5\n",
    "    print(f\"Number of CPU cores available: {num_cores}\")\n",
    "    \n",
    "    # Create a pool of processes\n",
    "    with Pool(processes=num_cores) as pool:\n",
    "        # Apply copy_path function to each row in parallel\n",
    "        pool.map(copy_path, df.to_dict('records'))"
   ]
  },
  {
   "cell_type": "code",
   "execution_count": null,
   "metadata": {},
   "outputs": [],
   "source": [
    "print(\"hello\")"
   ]
  },
  {
   "cell_type": "code",
   "execution_count": null,
   "metadata": {},
   "outputs": [],
   "source": []
  }
 ],
 "metadata": {
  "kernelspec": {
   "display_name": ".venv",
   "language": "python",
   "name": "python3"
  },
  "language_info": {
   "codemirror_mode": {
    "name": "ipython",
    "version": 3
   },
   "file_extension": ".py",
   "mimetype": "text/x-python",
   "name": "python",
   "nbconvert_exporter": "python",
   "pygments_lexer": "ipython3",
   "version": "3.11.5"
  }
 },
 "nbformat": 4,
 "nbformat_minor": 2
}
