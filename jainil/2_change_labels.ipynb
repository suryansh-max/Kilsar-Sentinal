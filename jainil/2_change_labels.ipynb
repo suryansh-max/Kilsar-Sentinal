{
 "cells": [
  {
   "cell_type": "markdown",
   "metadata": {},
   "source": [
    "change textfiles classes from 2 "
   ]
  },
  {
   "cell_type": "code",
   "execution_count": 2,
   "metadata": {},
   "outputs": [
    {
     "name": "stdout",
     "output_type": "stream",
     "text": [
      "/mnt/storage/kilsar_mohammad/Kilsar_public_jainil/0/test/labels folder compelted \n",
      "/mnt/storage/kilsar_mohammad/Kilsar_public_jainil/0/train/labels folder compelted \n",
      "/mnt/storage/kilsar_mohammad/Kilsar_public_jainil/0/val/labels folder compelted \n",
      "/mnt/storage/kilsar_mohammad/Kilsar_public_jainil/1/test/labels folder compelted \n",
      "/mnt/storage/kilsar_mohammad/Kilsar_public_jainil/1/train/labels folder compelted \n",
      "/mnt/storage/kilsar_mohammad/Kilsar_public_jainil/1/val/labels folder compelted \n",
      "/mnt/storage/kilsar_mohammad/Kilsar_public_jainil/2/test/labels folder compelted \n",
      "/mnt/storage/kilsar_mohammad/Kilsar_public_jainil/2/train/labels folder compelted \n",
      "/mnt/storage/kilsar_mohammad/Kilsar_public_jainil/2/val/labels folder compelted \n"
     ]
    }
   ],
   "source": [
    "import os\n",
    "from concurrent.futures import ProcessPoolExecutor\n",
    "\n",
    "def change_class_label_in_file(filepath, new_class=1):\n",
    "    with open(filepath, 'r') as file:\n",
    "        lines = file.readlines()\n",
    "\n",
    "    with open(filepath, 'w') as file:\n",
    "        for line in lines:\n",
    "            parts = line.strip().split()\n",
    "            parts[0] = str(new_class)\n",
    "            file.write(\" \".join(parts) + \"\\n\")\n",
    "\n",
    "def change_class_labels_in_directory(directory, new_class=1, num_workers=None):\n",
    "    txt_files = [os.path.join(directory, filename) for filename in os.listdir(directory) if filename.endswith(\".txt\")]\n",
    "\n",
    "    with ProcessPoolExecutor(max_workers=num_workers) as executor:\n",
    "        futures = [executor.submit(change_class_label_in_file, filepath, new_class) for filepath in txt_files]\n",
    "        for future in futures:\n",
    "            future.result()  # Ensure any exceptions are raised\n",
    "\n",
    "# Usage\n",
    "path_to_folder = \"/mnt/storage/kilsar_mohammad/Kilsar_public_jainil\"\n",
    "directories = [f'{path_to_folder}/0/test/labels',f'{path_to_folder}/0/train/labels',f'{path_to_folder}/0/val/labels']\n",
    "for directory in directories:\n",
    "    change_class_labels_in_directory(directory, new_class=0, num_workers=36)\n",
    "    print(directory , 'folder compelted ')\n",
    "\n",
    "directories = [f'{path_to_folder}/1/test/labels',f'{path_to_folder}/1/train/labels',f'{path_to_folder}/1/val/labels']\n",
    "for directory in directories:\n",
    "    change_class_labels_in_directory(directory, new_class=0, num_workers=36)\n",
    "    print(directory , 'folder compelted ')\n",
    "    \n",
    "directories = [f'{path_to_folder}/2/test/labels',f'{path_to_folder}/2/train/labels',f'{path_to_folder}/2/val/labels']\n",
    "for directory in directories:\n",
    "    change_class_labels_in_directory(directory, new_class=0, num_workers=36)\n",
    "    print(directory , 'folder compelted ')"
   ]
  },
  {
   "cell_type": "code",
   "execution_count": null,
   "metadata": {},
   "outputs": [],
   "source": []
  }
 ],
 "metadata": {
  "kernelspec": {
   "display_name": ".venv",
   "language": "python",
   "name": "python3"
  },
  "language_info": {
   "codemirror_mode": {
    "name": "ipython",
    "version": 3
   },
   "file_extension": ".py",
   "mimetype": "text/x-python",
   "name": "python",
   "nbconvert_exporter": "python",
   "pygments_lexer": "ipython3",
   "version": "3.11.7"
  }
 },
 "nbformat": 4,
 "nbformat_minor": 2
}
