{
 "cells": [
  {
   "cell_type": "code",
   "execution_count": null,
   "metadata": {},
   "outputs": [
    {
     "name": "stdout",
     "output_type": "stream",
     "text": [
      "Requirement already satisfied: roboflow in /home/research/Kilsar_Sentinal/.venv/lib64/python3.11/site-packages (1.1.45)\n",
      "Requirement already satisfied: certifi in /home/research/Kilsar_Sentinal/.venv/lib64/python3.11/site-packages (from roboflow) (2024.6.2)\n",
      "Requirement already satisfied: idna==3.7 in /home/research/Kilsar_Sentinal/.venv/lib64/python3.11/site-packages (from roboflow) (3.7)\n",
      "Requirement already satisfied: cycler in /home/research/Kilsar_Sentinal/.venv/lib64/python3.11/site-packages (from roboflow) (0.12.1)\n",
      "Requirement already satisfied: kiwisolver>=1.3.1 in /home/research/Kilsar_Sentinal/.venv/lib64/python3.11/site-packages (from roboflow) (1.4.5)\n",
      "Requirement already satisfied: matplotlib in /home/research/Kilsar_Sentinal/.venv/lib64/python3.11/site-packages (from roboflow) (3.9.0)\n",
      "Requirement already satisfied: numpy>=1.18.5 in /home/research/Kilsar_Sentinal/.venv/lib64/python3.11/site-packages (from roboflow) (1.26.4)\n",
      "Requirement already satisfied: opencv-python-headless==4.10.0.84 in /home/research/Kilsar_Sentinal/.venv/lib64/python3.11/site-packages (from roboflow) (4.10.0.84)\n",
      "Requirement already satisfied: Pillow>=7.1.2 in /home/research/Kilsar_Sentinal/.venv/lib64/python3.11/site-packages (from roboflow) (10.4.0)\n",
      "Requirement already satisfied: python-dateutil in /home/research/Kilsar_Sentinal/.venv/lib64/python3.11/site-packages (from roboflow) (2.9.0.post0)\n",
      "Requirement already satisfied: python-dotenv in /home/research/Kilsar_Sentinal/.venv/lib64/python3.11/site-packages (from roboflow) (1.0.1)\n",
      "Requirement already satisfied: requests in /home/research/Kilsar_Sentinal/.venv/lib64/python3.11/site-packages (from roboflow) (2.32.3)\n",
      "Requirement already satisfied: six in /home/research/Kilsar_Sentinal/.venv/lib64/python3.11/site-packages (from roboflow) (1.16.0)\n",
      "Requirement already satisfied: urllib3>=1.26.6 in /home/research/Kilsar_Sentinal/.venv/lib64/python3.11/site-packages (from roboflow) (2.2.2)\n",
      "Requirement already satisfied: tqdm>=4.41.0 in /home/research/Kilsar_Sentinal/.venv/lib64/python3.11/site-packages (from roboflow) (4.66.4)\n",
      "Requirement already satisfied: PyYAML>=5.3.1 in /home/research/Kilsar_Sentinal/.venv/lib64/python3.11/site-packages (from roboflow) (6.0.1)\n",
      "Requirement already satisfied: requests-toolbelt in /home/research/Kilsar_Sentinal/.venv/lib64/python3.11/site-packages (from roboflow) (1.0.0)\n",
      "Requirement already satisfied: filetype in /home/research/Kilsar_Sentinal/.venv/lib64/python3.11/site-packages (from roboflow) (1.2.0)\n",
      "Requirement already satisfied: contourpy>=1.0.1 in /home/research/Kilsar_Sentinal/.venv/lib64/python3.11/site-packages (from matplotlib->roboflow) (1.2.1)\n",
      "Requirement already satisfied: fonttools>=4.22.0 in /home/research/Kilsar_Sentinal/.venv/lib64/python3.11/site-packages (from matplotlib->roboflow) (4.53.0)\n",
      "Requirement already satisfied: packaging>=20.0 in /home/research/Kilsar_Sentinal/.venv/lib64/python3.11/site-packages (from matplotlib->roboflow) (24.1)\n",
      "Requirement already satisfied: pyparsing>=2.3.1 in /home/research/Kilsar_Sentinal/.venv/lib64/python3.11/site-packages (from matplotlib->roboflow) (3.1.2)\n",
      "Requirement already satisfied: charset-normalizer<4,>=2 in /home/research/Kilsar_Sentinal/.venv/lib64/python3.11/site-packages (from requests->roboflow) (3.3.2)\n",
      "\n",
      "\u001b[1m[\u001b[0m\u001b[34;49mnotice\u001b[0m\u001b[1;39;49m]\u001b[0m\u001b[39;49m A new release of pip is available: \u001b[0m\u001b[31;49m24.1.1\u001b[0m\u001b[39;49m -> \u001b[0m\u001b[32;49m24.2\u001b[0m\n",
      "\u001b[1m[\u001b[0m\u001b[34;49mnotice\u001b[0m\u001b[1;39;49m]\u001b[0m\u001b[39;49m To update, run: \u001b[0m\u001b[32;49mpip install --upgrade pip\u001b[0m\n",
      "loading Roboflow workspace...\n",
      "loading Roboflow project...\n",
      "Exporting format yolov9 in progress : 0.1%"
     ]
    }
   ],
   "source": [
    "!pip install roboflow\n",
    "\n",
    "import os\n",
    "from roboflow import Roboflow\n",
    "\n",
    "# Initialize Roboflow with the API key\n",
    "rf = Roboflow(api_key=\"PbmVRM7bplhxQ6Ge0eaZ\")\n",
    "# Access the workspace and project\n",
    "project = rf.workspace(\"gun-detection-5-7yink\").project(\"gun-detection-5\")\n",
    "# Select the version of the dataset\n",
    "version = project.version(1)\n",
    "\n",
    "# Specify the folder where you want to download the dataset\n",
    "download_path = \"/home/research/Kilsar_Sentinal/Data1/Roboflow_Augmented\"  # Replace this with your desired directory\n",
    "\n",
    "# Create the folder if it doesn't exist\n",
    "os.makedirs(download_path, exist_ok=True)\n",
    "\n",
    "# Download the dataset to the specified folder\n",
    "dataset = version.download(\"yolov9\", location=download_path)\n"
   ]
  },
  {
   "cell_type": "code",
   "execution_count": null,
   "metadata": {},
   "outputs": [],
   "source": []
  }
 ],
 "metadata": {
  "kernelspec": {
   "display_name": ".venv",
   "language": "python",
   "name": "python3"
  },
  "language_info": {
   "codemirror_mode": {
    "name": "ipython",
    "version": 3
   },
   "file_extension": ".py",
   "mimetype": "text/x-python",
   "name": "python",
   "nbconvert_exporter": "python",
   "pygments_lexer": "ipython3",
   "version": "3.11.9"
  }
 },
 "nbformat": 4,
 "nbformat_minor": 2
}
