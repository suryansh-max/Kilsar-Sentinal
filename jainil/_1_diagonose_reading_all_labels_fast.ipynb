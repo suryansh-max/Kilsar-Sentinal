{
 "cells": [
  {
   "cell_type": "code",
   "execution_count": null,
   "metadata": {},
   "outputs": [],
   "source": [
    "import sys\n",
    "!{sys.executable} -m pip install dask[complete]"
   ]
  },
  {
   "cell_type": "code",
   "execution_count": 2,
   "metadata": {},
   "outputs": [
    {
     "name": "stdout",
     "output_type": "stream",
     "text": [
      "131465\n",
      "completed dataframe\n"
     ]
    }
   ],
   "source": [
    "import dask\n",
    "import dask.bag as db\n",
    "import os\n",
    "\n",
    "# Define the directory containing the text files\n",
    "directory = '/mnt/storage/Kilser_Sentinal/data_formated_jainil4/labels/'\n",
    "\n",
    "# Get a list of all txt files in the directory\n",
    "txt_files = [os.path.join(directory, f) for f in os.listdir(directory) if f.endswith('.txt')]\n",
    "\n",
    "print(len(txt_files))\n",
    "\n",
    "# Function to read a single file and return its contents along with the filename\n",
    "def read_file(file_path):\n",
    "    with open(file_path, 'r') as file:\n",
    "        content = file.read().replace('\\n', ' ')  # Read the file and replace newlines with spaces\n",
    "    filename = os.path.basename(file_path)\n",
    "    return {'filename': filename, 'content': content}\n",
    "\n",
    "# Create a Dask bag from the list of files\n",
    "dask_bag = db.from_sequence(txt_files).map(read_file)\n",
    "\n",
    "# Convert the Dask bag to a Dask dataframe\n",
    "dask_df = dask_bag.to_dataframe()\n",
    "\n",
    "# Persist the dataframe (optional, to optimize computations)\n",
    "dask_df = dask_df.persist()\n",
    "print(\"completed dataframe\")\n",
    "\n",
    "# If you want to save as Parquet instead of CSV\n",
    "# dask_df.to_parquet('output_directory/processed_files.parquet', write_index=False)\n"
   ]
  },
  {
   "cell_type": "code",
   "execution_count": 3,
   "metadata": {},
   "outputs": [
    {
     "name": "stderr",
     "output_type": "stream",
     "text": [
      "/home/japmyy/temp/lib/python3.6/site-packages/dask/dataframe/multi.py:1193: UserWarning: Concatenating dataframes with unknown divisions.\n",
      "We're assuming that the indices of each dataframes are \n",
      " aligned. This assumption is not generally safe.\n",
      "  \"Concatenating dataframes with unknown divisions.\\n\"\n"
     ]
    }
   ],
   "source": [
    "split_df = dask_df['content'].str.split(expand=True, n=4)\n",
    "max_cols = len(split_df.columns)\n",
    "\n",
    "# Rename the columns for clarity\n",
    "split_df = split_df.rename(columns={i: f'col_{i+1}' for i in range(max_cols)})\n",
    "\n",
    "# Combine the original 'filename' column with the split columns\n",
    "result_df = dask.dataframe.concat([dask_df[['filename']], split_df], axis=1)\n",
    "\n",
    "# Persist the dataframe (optional, to optimize computations)\n",
    "result_df = result_df.persist()"
   ]
  },
  {
   "cell_type": "code",
   "execution_count": 4,
   "metadata": {},
   "outputs": [
    {
     "data": {
      "text/plain": [
       "['/mnt/storage/Kilser_Sentinal/labels_processed.csv']"
      ]
     },
     "execution_count": 4,
     "metadata": {},
     "output_type": "execute_result"
    }
   ],
   "source": [
    "\n",
    "result_df.to_csv('/mnt/storage/Kilser_Sentinal/labels_processed.csv', single_file=True)"
   ]
  },
  {
   "cell_type": "code",
   "execution_count": 5,
   "metadata": {},
   "outputs": [],
   "source": [
    "import pandas as pd\n",
    "df = pd.read_csv(\"/mnt/storage/Kilser_Sentinal/labels_processed.csv\")"
   ]
  },
  {
   "cell_type": "code",
   "execution_count": 6,
   "metadata": {},
   "outputs": [
    {
     "data": {
      "text/html": [
       "<div>\n",
       "<style scoped>\n",
       "    .dataframe tbody tr th:only-of-type {\n",
       "        vertical-align: middle;\n",
       "    }\n",
       "\n",
       "    .dataframe tbody tr th {\n",
       "        vertical-align: top;\n",
       "    }\n",
       "\n",
       "    .dataframe thead th {\n",
       "        text-align: right;\n",
       "    }\n",
       "</style>\n",
       "<table border=\"1\" class=\"dataframe\">\n",
       "  <thead>\n",
       "    <tr style=\"text-align: right;\">\n",
       "      <th></th>\n",
       "      <th>Unnamed: 0</th>\n",
       "      <th>filename</th>\n",
       "      <th>col_1</th>\n",
       "      <th>col_2</th>\n",
       "      <th>col_3</th>\n",
       "      <th>col_4</th>\n",
       "      <th>col_5</th>\n",
       "    </tr>\n",
       "  </thead>\n",
       "  <tbody>\n",
       "    <tr>\n",
       "      <th>0</th>\n",
       "      <td>0</td>\n",
       "      <td>video_6f892664-761b-4f80-af7f-19efd72f8628_fra...</td>\n",
       "      <td>NaN</td>\n",
       "      <td>NaN</td>\n",
       "      <td>NaN</td>\n",
       "      <td>NaN</td>\n",
       "      <td>NaN</td>\n",
       "    </tr>\n",
       "    <tr>\n",
       "      <th>1</th>\n",
       "      <td>1</td>\n",
       "      <td>video_5f87e18e-ffdf-4957-9899-b5414cda66e2_fra...</td>\n",
       "      <td>0.0</td>\n",
       "      <td>0.701600</td>\n",
       "      <td>0.499934</td>\n",
       "      <td>0.043527</td>\n",
       "      <td>0.063624</td>\n",
       "    </tr>\n",
       "    <tr>\n",
       "      <th>2</th>\n",
       "      <td>2</td>\n",
       "      <td>video_862d3cfb-83e8-4d4b-b7bc-aad791bd8158_fra...</td>\n",
       "      <td>NaN</td>\n",
       "      <td>NaN</td>\n",
       "      <td>NaN</td>\n",
       "      <td>NaN</td>\n",
       "      <td>NaN</td>\n",
       "    </tr>\n",
       "    <tr>\n",
       "      <th>3</th>\n",
       "      <td>3</td>\n",
       "      <td>video_fd55126b-c832-433d-911e-e548e3bfae30_fra...</td>\n",
       "      <td>1.0</td>\n",
       "      <td>0.505000</td>\n",
       "      <td>0.528750</td>\n",
       "      <td>0.117500</td>\n",
       "      <td>0.070833</td>\n",
       "    </tr>\n",
       "    <tr>\n",
       "      <th>4</th>\n",
       "      <td>4</td>\n",
       "      <td>video_59148601-615f-4b39-b028-5b9ad5ce29ba_fra...</td>\n",
       "      <td>2.0</td>\n",
       "      <td>0.920703</td>\n",
       "      <td>0.624074</td>\n",
       "      <td>0.157031</td>\n",
       "      <td>0.371296</td>\n",
       "    </tr>\n",
       "  </tbody>\n",
       "</table>\n",
       "</div>"
      ],
      "text/plain": [
       "   Unnamed: 0                                           filename  col_1  \\\n",
       "0           0  video_6f892664-761b-4f80-af7f-19efd72f8628_fra...    NaN   \n",
       "1           1  video_5f87e18e-ffdf-4957-9899-b5414cda66e2_fra...    0.0   \n",
       "2           2  video_862d3cfb-83e8-4d4b-b7bc-aad791bd8158_fra...    NaN   \n",
       "3           3  video_fd55126b-c832-433d-911e-e548e3bfae30_fra...    1.0   \n",
       "4           4  video_59148601-615f-4b39-b028-5b9ad5ce29ba_fra...    2.0   \n",
       "\n",
       "      col_2     col_3     col_4     col_5  \n",
       "0       NaN       NaN       NaN       NaN  \n",
       "1  0.701600  0.499934  0.043527  0.063624  \n",
       "2       NaN       NaN       NaN       NaN  \n",
       "3  0.505000  0.528750  0.117500  0.070833  \n",
       "4  0.920703  0.624074  0.157031  0.371296  "
      ]
     },
     "execution_count": 6,
     "metadata": {},
     "output_type": "execute_result"
    }
   ],
   "source": [
    "df.head()"
   ]
  },
  {
   "cell_type": "code",
   "execution_count": 9,
   "metadata": {},
   "outputs": [
    {
     "data": {
      "text/plain": [
       "NaN    97457\n",
       "1.0    12496\n",
       "2.0    11229\n",
       "0.0    10283\n",
       "Name: col_1, dtype: int64"
      ]
     },
     "execution_count": 9,
     "metadata": {},
     "output_type": "execute_result"
    }
   ],
   "source": [
    "df[\"col_1\"].value_counts(dropna=False)"
   ]
  },
  {
   "cell_type": "code",
   "execution_count": null,
   "metadata": {},
   "outputs": [],
   "source": []
  }
 ],
 "metadata": {
  "kernelspec": {
   "display_name": "Python 3",
   "language": "python",
   "name": "python3"
  },
  "language_info": {
   "codemirror_mode": {
    "name": "ipython",
    "version": 3
   },
   "file_extension": ".py",
   "mimetype": "text/x-python",
   "name": "python",
   "nbconvert_exporter": "python",
   "pygments_lexer": "ipython3",
   "version": "3.6.8"
  }
 },
 "nbformat": 4,
 "nbformat_minor": 2
}
