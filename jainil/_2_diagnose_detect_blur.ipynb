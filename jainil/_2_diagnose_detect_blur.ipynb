{
 "cells": [
  {
   "cell_type": "code",
   "execution_count": null,
   "metadata": {},
   "outputs": [],
   "source": [
    "import sys\n",
    "!{sys.executable} -m pip install \"dask[complete]\""
   ]
  },
  {
   "cell_type": "code",
   "execution_count": null,
   "metadata": {},
   "outputs": [],
   "source": []
  },
  {
   "cell_type": "code",
   "execution_count": 10,
   "metadata": {},
   "outputs": [],
   "source": [
    "# import the necessary packages\n",
    "import argparse\n",
    "import cv2\n",
    "import sys\n",
    "import pandas as pd\n",
    "import dask.dataframe as dd\n",
    "# Function to load and preprocess the image\n",
    "# Function to compute motion blur score using DWT\n",
    "import pywt\n",
    "import numpy as np\n",
    "\n",
    "\n",
    "\n",
    "# construct the argument parse and parse the arguments\n",
    "def get_is_blur(imagePath):\n",
    "    threshold = 100\n",
    "    # load the image, convert it to grayscale, and compute the\n",
    "    # focus measure of the image using the Variance of Laplacian\n",
    "    # method\n",
    "    image = cv2.imread(imagePath)\n",
    "    # Check if the image is loaded properly\n",
    "    if image is None:\n",
    "        print(f\"Error: Could not load image {imagePath}\")\n",
    "        return 0\n",
    "\n",
    "    # compute the Laplacian of the image and then return the focus\n",
    "    # measure, which is simply the variance of the Laplacian\n",
    "    return cv2.Laplacian(image, cv2.CV_64F).var()\n",
    "\n",
    "\n",
    "\n",
    "\n",
    "\n",
    "def compute_motion_blur_score_from_wavelet_transformation(image_path):\n",
    "    threshold = 35\n",
    "    # Load image in grayscale\n",
    "    image = cv2.imread(image_path)\n",
    "    if image is None:\n",
    "        return 0\n",
    "    # Convert image to grayscale\n",
    "    Y = cv2.cvtColor(image, cv2.COLOR_BGR2GRAY)\n",
    "    \n",
    "    \n",
    "    M, N = Y.shape\n",
    "    \n",
    "    # Crop input image to be 3 divisible by 2\n",
    "    Y = Y[0:int(M/16)*16, 0:int(N/16)*16]\n",
    "    \n",
    "    # Step 1, compute Haar wavelet of input image\n",
    "    LL1,(LH1,HL1,HH1)= pywt.dwt2(Y, 'haar')\n",
    "    # Another application of 2D haar to LL1\n",
    "    LL2,(LH2,HL2,HH2)= pywt.dwt2(LL1, 'haar') \n",
    "    # Another application of 2D haar to LL2\n",
    "    LL3,(LH3,HL3,HH3)= pywt.dwt2(LL2, 'haar')\n",
    "    \n",
    "    # Construct the edge map in each scale Step 2\n",
    "    E1 = np.sqrt(np.power(LH1, 2)+np.power(HL1, 2)+np.power(HH1, 2))\n",
    "    E2 = np.sqrt(np.power(LH2, 2)+np.power(HL2, 2)+np.power(HH2, 2))\n",
    "    E3 = np.sqrt(np.power(LH3, 2)+np.power(HL3, 2)+np.power(HH3, 2))\n",
    "    \n",
    "    M1, N1 = E1.shape\n",
    "\n",
    "    # Sliding window size level 1\n",
    "    sizeM1 = 8\n",
    "    sizeN1 = 8\n",
    "    \n",
    "    # Sliding windows size level 2\n",
    "    sizeM2 = int(sizeM1/2)\n",
    "    sizeN2 = int(sizeN1/2)\n",
    "    \n",
    "    # Sliding windows size level 3\n",
    "    sizeM3 = int(sizeM2/2)\n",
    "    sizeN3 = int(sizeN2/2)\n",
    "    \n",
    "    # Number of edge maps, related to sliding windows size\n",
    "    N_iter = int((M1/sizeM1)*(N1/sizeN1))\n",
    "    \n",
    "    Emax1 = np.zeros((N_iter))\n",
    "    Emax2 = np.zeros((N_iter))\n",
    "    Emax3 = np.zeros((N_iter))\n",
    "    \n",
    "    \n",
    "    count = 0\n",
    "    \n",
    "    # Sliding windows index of level 1\n",
    "    x1 = 0\n",
    "    y1 = 0\n",
    "    # Sliding windows index of level 2\n",
    "    x2 = 0\n",
    "    y2 = 0\n",
    "    # Sliding windows index of level 3\n",
    "    x3 = 0\n",
    "    y3 = 0\n",
    "    \n",
    "    # Sliding windows limit on horizontal dimension\n",
    "    Y_limit = N1-sizeN1\n",
    "    \n",
    "    while count < N_iter:\n",
    "        # Get the maximum value of slicing windows over edge maps \n",
    "        # in each level\n",
    "        Emax1[count] = np.max(E1[x1:x1+sizeM1,y1:y1+sizeN1])\n",
    "        Emax2[count] = np.max(E2[x2:x2+sizeM2,y2:y2+sizeN2])\n",
    "        Emax3[count] = np.max(E3[x3:x3+sizeM3,y3:y3+sizeN3])\n",
    "        \n",
    "        # if sliding windows ends horizontal direction\n",
    "        # move along vertical direction and resets horizontal\n",
    "        # direction\n",
    "        if y1 == Y_limit:\n",
    "            x1 = x1 + sizeM1\n",
    "            y1 = 0\n",
    "            \n",
    "            x2 = x2 + sizeM2\n",
    "            y2 = 0\n",
    "            \n",
    "            x3 = x3 + sizeM3\n",
    "            y3 = 0\n",
    "            \n",
    "            count += 1\n",
    "        \n",
    "        # windows moves along horizontal dimension\n",
    "        else:\n",
    "                \n",
    "            y1 = y1 + sizeN1\n",
    "            y2 = y2 + sizeN2\n",
    "            y3 = y3 + sizeN3\n",
    "            count += 1\n",
    "    \n",
    "    # Step 3\n",
    "    EdgePoint1 = Emax1 > threshold;\n",
    "    EdgePoint2 = Emax2 > threshold;\n",
    "    EdgePoint3 = Emax3 > threshold;\n",
    "    \n",
    "    # Rule 1 Edge Pojnts\n",
    "    EdgePoint = EdgePoint1 + EdgePoint2 + EdgePoint3\n",
    "    \n",
    "    n_edges = EdgePoint.shape[0]\n",
    "    \n",
    "    # Rule 2 Dirak-Structure or Astep-Structure\n",
    "    DAstructure = (Emax1[EdgePoint] > Emax2[EdgePoint]) * (Emax2[EdgePoint] > Emax3[EdgePoint]);\n",
    "    \n",
    "    # Rule 3 Roof-Structure or Gstep-Structure\n",
    "    \n",
    "    RGstructure = np.zeros((n_edges))\n",
    "\n",
    "    for i in range(n_edges):\n",
    "    \n",
    "        if EdgePoint[i] == 1:\n",
    "        \n",
    "            if Emax1[i] < Emax2[i] and Emax2[i] < Emax3[i]:\n",
    "            \n",
    "                RGstructure[i] = 1\n",
    "                \n",
    "    # Rule 4 Roof-Structure\n",
    "    \n",
    "    RSstructure = np.zeros((n_edges))\n",
    "\n",
    "    for i in range(n_edges):\n",
    "    \n",
    "        if EdgePoint[i] == 1:\n",
    "        \n",
    "            if Emax2[i] > Emax1[i] and Emax2[i] > Emax3[i]:\n",
    "            \n",
    "                RSstructure[i] = 1\n",
    "\n",
    "    # Rule 5 Edge more likely to be in a blurred image \n",
    "\n",
    "    BlurC = np.zeros((n_edges));\n",
    "\n",
    "    for i in range(n_edges):\n",
    "    \n",
    "        if RGstructure[i] == 1 or RSstructure[i] == 1:\n",
    "        \n",
    "            if Emax1[i] < threshold:\n",
    "            \n",
    "                BlurC[i] = 1                        \n",
    "        \n",
    "    # Step 6\n",
    "    Per = np.sum(DAstructure)/np.sum(EdgePoint)\n",
    "    \n",
    "    # Step 7\n",
    "    if (np.sum(RGstructure) + np.sum(RSstructure)) == 0:\n",
    "        \n",
    "        BlurExtent = 100\n",
    "    else:\n",
    "        BlurExtent = np.sum(BlurC) / (np.sum(RGstructure) + np.sum(RSstructure))\n",
    "    \n",
    "    if Per < 0.007:\n",
    "        classification = True\n",
    "    else:\n",
    "        classification = False\n",
    "    print(Per)\n",
    "    return classification\n",
    "    "
   ]
  },
  {
   "cell_type": "code",
   "execution_count": 11,
   "metadata": {},
   "outputs": [
    {
     "name": "stdout",
     "output_type": "stream",
     "text": [
      "34008\n"
     ]
    }
   ],
   "source": [
    "import glob\n",
    "\n",
    "# Define the pattern to match all .jpg files in the nested directories\n",
    "pattern = \"/home/research/kilasar_sentinal_wepon_detection/data/*/*/*/*.jpg\"\n",
    "\n",
    "# Get all matching file paths\n",
    "all_files = glob.glob(pattern)\n",
    "\n",
    "# Define the folder to exclude\n",
    "exclude_folder = \"/n/\"\n",
    "\n",
    "# Filter out files that contain the exclude_folder in their path\n",
    "filtered_files = [f for f in all_files if exclude_folder not in f]\n",
    "\n",
    "# Print the filtered list of files\n",
    "print(len(filtered_files))"
   ]
  },
  {
   "cell_type": "code",
   "execution_count": 12,
   "metadata": {},
   "outputs": [
    {
     "data": {
      "text/plain": [
       "(34008, 1)"
      ]
     },
     "execution_count": 12,
     "metadata": {},
     "output_type": "execute_result"
    }
   ],
   "source": [
    "\n",
    "df = pd.DataFrame(filtered_files, columns=[\"image_paths\"])\n",
    "df.shape"
   ]
  },
  {
   "cell_type": "code",
   "execution_count": 14,
   "metadata": {},
   "outputs": [
    {
     "name": "stdout",
     "output_type": "stream",
     "text": [
      "0.0009439899307740718\n"
     ]
    },
    {
     "data": {
      "text/plain": [
       "True"
      ]
     },
     "execution_count": 14,
     "metadata": {},
     "output_type": "execute_result"
    }
   ],
   "source": [
    "compute_motion_blur_score_from_wavelet_transformation(\"/home/research/kilasar_sentinal_wepon_detection/data/2/train/images/video_fb784f02-8da0-4e89-932d-61f9f7fbcbf1_frame_0364.jpg\")"
   ]
  },
  {
   "cell_type": "code",
   "execution_count": null,
   "metadata": {},
   "outputs": [],
   "source": [
    "\n",
    "\n",
    "# Assuming df is your existing Pandas DataFrame\n",
    "ddf = dd.from_pandas(df, npartitions=40)  # Adjust npartitions based on your CPU cores\n",
    "\n",
    "# ddf[\"blurriness\"] = ddf[\"image_paths\"].map_partitions(lambda df: df.apply(get_is_blur))\n"
   ]
  },
  {
   "cell_type": "code",
   "execution_count": null,
   "metadata": {},
   "outputs": [],
   "source": [
    "ddf[\"blurriness_from_wavelet\"] = ddf[\"image_paths\"].map_partitions(lambda df: df.apply(compute_motion_blur_score_from_wavelet_transformation))\n",
    "# Compute the results and convert back to Pandas DataFrame\n",
    "result_df = ddf.compute()"
   ]
  },
  {
   "cell_type": "code",
   "execution_count": null,
   "metadata": {},
   "outputs": [],
   "source": [
    "import matplotlib.pyplot as plt\n",
    "\n",
    "# Plot the histogram\n",
    "result_df[\"blurriness\"].plot(kind='hist', bins=30, edgecolor='black')\n",
    "\n",
    "# Add labels and title\n",
    "plt.xlabel('Blurriness')\n",
    "plt.ylabel('Frequency')\n",
    "plt.title('Histogram of Blurriness Scores')\n",
    "\n",
    "# Show the plot\n",
    "plt.show()"
   ]
  },
  {
   "cell_type": "code",
   "execution_count": null,
   "metadata": {},
   "outputs": [],
   "source": [
    "import matplotlib.pyplot as plt\n",
    "\n",
    "# Plot the histogram\n",
    "result_df[\"blurriness_from_wavelet\"].plot(kind='hist', bins=30, edgecolor='black')\n",
    "\n",
    "# Add labels and title\n",
    "plt.xlabel('Blurriness')\n",
    "plt.ylabel('Frequency')\n",
    "plt.title('Histogram of Blurriness Scores')\n",
    "\n",
    "# Show the plot\n",
    "plt.show()"
   ]
  },
  {
   "cell_type": "code",
   "execution_count": null,
   "metadata": {},
   "outputs": [],
   "source": [
    "blur_df = result_df[(result_df[\"blurriness_from_wavelet\"]==True)]"
   ]
  },
  {
   "cell_type": "code",
   "execution_count": null,
   "metadata": {},
   "outputs": [],
   "source": [
    "list_of_blurry_images = blur_df[\"image_paths\"].to_list()\n",
    "batch_size = 9\n",
    "num_batches = (len(list_of_blurry_images) + batch_size - 1) // batch_size  # Calculate number of batches\n",
    "\n",
    "for batch_idx in range(num_batches):\n",
    "    start_idx = batch_idx * batch_size\n",
    "    end_idx = min((batch_idx + 1) * batch_size, len(list_of_blurry_images))\n",
    "    \n",
    "    # Plotting the current batch of images in a grid\n",
    "    fig, axes = plt.subplots(3, 3, figsize=(15, 15))\n",
    "    \n",
    "    for i, ax in enumerate(axes.flatten()):\n",
    "        if start_idx + i < end_idx:\n",
    "            image_path = list_of_blurry_images[start_idx + i]\n",
    "            image = cv2.imread(image_path)\n",
    "            image = cv2.cvtColor(image, cv2.COLOR_BGR2RGB)  # Convert BGR to RGB for displaying\n",
    "            ax.imshow(image)\n",
    "            ax.set_title(f\"Blurriness: {result_df[result_df['image_paths'] == image_path]['blurriness'].values[0]:.2f}\")\n",
    "            ax.axis('off')\n",
    "        else:\n",
    "            ax.axis('off')\n",
    "    \n",
    "    plt.tight_layout()\n",
    "    plt.show()"
   ]
  },
  {
   "cell_type": "code",
   "execution_count": null,
   "metadata": {},
   "outputs": [],
   "source": []
  }
 ],
 "metadata": {
  "kernelspec": {
   "display_name": ".venv",
   "language": "python",
   "name": "python3"
  },
  "language_info": {
   "codemirror_mode": {
    "name": "ipython",
    "version": 3
   },
   "file_extension": ".py",
   "mimetype": "text/x-python",
   "name": "python",
   "nbconvert_exporter": "python",
   "pygments_lexer": "ipython3",
   "version": "3.6.8"
  }
 },
 "nbformat": 4,
 "nbformat_minor": 2
}
