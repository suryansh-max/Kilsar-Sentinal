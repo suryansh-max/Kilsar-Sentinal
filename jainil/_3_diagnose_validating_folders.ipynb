{
 "cells": [
  {
   "cell_type": "code",
   "execution_count": 5,
   "metadata": {},
   "outputs": [
    {
     "name": "stdout",
     "output_type": "stream",
     "text": [
      "4000\n",
      "4000\n",
      "Images not having corresponding labels: 0\n",
      "Labels not having corresponding images: 0\n"
     ]
    }
   ],
   "source": [
    "import pandas as pd\n",
    "import glob\n",
    "import os\n",
    "\n",
    "# Define the paths to the image and label folders\n",
    "image_folder = '/mnt/storage/kilsar_jainil/archive-3/archive-3/dataset/dataset/images/train/'\n",
    "label_folder = '/mnt/storage/kilsar_jainil/archive-3/archive-3/dataset/dataset/labels/labels/train/'\n",
    "\n",
    "# Function to get filenames (without extension) from a folder\n",
    "def get_filenames(folder, extension):\n",
    "    return [os.path.splitext(os.path.basename(f))[0] for f in glob.glob(os.path.join(folder, f'*.{extension}'))]\n",
    "\n",
    "# Get filenames from the image and label folders\n",
    "image_names = get_filenames(image_folder, 'jpg')\n",
    "label_names = get_filenames(label_folder, 'txt')\n",
    "\n",
    "# Create DataFrames for comparison\n",
    "df_images = pd.DataFrame({'filename': image_names, 'type': 'image'})\n",
    "df_labels = pd.DataFrame({'filename': label_names, 'type': 'label'})\n",
    "\n",
    "\n",
    "image_names = df_images[\"filename\"].to_list()\n",
    "label_names = df_labels[\"filename\"].to_list()\n",
    "\n",
    "print(len(image_names))\n",
    "print(len(label_names))\n",
    "\n",
    "# Find differences\n",
    "image_diff = set(image_names) - set(label_names)\n",
    "label_diff = set(label_names) - set(image_names)\n",
    "\n",
    "print(f'Images not having corresponding labels: {len(image_diff)}')\n",
    "print(f'Labels not having corresponding images: {len(label_diff)}')\n",
    "\n"
   ]
  },
  {
   "cell_type": "code",
   "execution_count": 31,
   "metadata": {},
   "outputs": [
    {
     "name": "stdout",
     "output_type": "stream",
     "text": [
      "Removed image: /mnt/storage/backup/label_wise_jainil/0/images/video_06446b69-69a0-4361-a853-f73dc43a133f_frame_0102.jpg\n",
      "Removed image: /mnt/storage/backup/label_wise_jainil/0/images/video_7db6e5c4-eeb9-402e-ae5c-222056ecd0b4_frame_0094.jpg\n",
      "Removed image: /mnt/storage/backup/label_wise_jainil/0/images/video_71a71af8-7cbd-445f-bb5d-fde33bb4fdcf_frame_0064.jpg\n",
      "Removed image: /mnt/storage/backup/label_wise_jainil/0/images/video_c215f00b-7a11-4a9b-a035-8eaaba2ba37e_frame_0059.jpg\n",
      "Removed label: /mnt/storage/backup/label_wise_jainil/0/labels/video_9a2b88dd-69c4-4a26-848a-ca1ce7f0e7d6_frame_0042.txt\n",
      "Removed label: /mnt/storage/backup/label_wise_jainil/0/labels/video_a079a1dd-a675-4964-91aa-07f14c7ff25f_frame_0061.txt\n",
      "Removed label: /mnt/storage/backup/label_wise_jainil/0/labels/video_7cbb198d-7a96-4c0f-bd9e-394e1fdb9798_frame_0184.txt\n",
      "Removed label: /mnt/storage/backup/label_wise_jainil/0/labels/video_a9202a19-403f-46f4-8f17-ac76f46a3c28_frame_0118.txt\n"
     ]
    }
   ],
   "source": [
    "# # Remove the files\n",
    "# for filename in image_diff:\n",
    "#     image_path = os.path.join(image_folder, f'{filename}.jpg')\n",
    "#     if os.path.exists(image_path):\n",
    "#         os.remove(image_path)\n",
    "#         print(f'Removed image: {image_path}')\n",
    "\n",
    "# for filename in label_diff:\n",
    "#     label_path = os.path.join(label_folder, f'{filename}.txt')\n",
    "#     if os.path.exists(label_path):\n",
    "#         os.remove(label_path)\n",
    "#         print(f'Removed label: {label_path}')"
   ]
  },
  {
   "cell_type": "code",
   "execution_count": 32,
   "metadata": {},
   "outputs": [
    {
     "name": "stdout",
     "output_type": "stream",
     "text": [
      "12492\n",
      "12492\n",
      "Images not having corresponding labels: 4\n",
      "Labels not having corresponding images: 4\n"
     ]
    }
   ],
   "source": [
    "import pandas as pd\n",
    "import glob\n",
    "import os\n",
    "\n",
    "# Define the paths to the image and label folders\n",
    "image_folder = '/mnt/storage/backup/label_wise_jainil/1/images'\n",
    "label_folder = '/mnt/storage/backup/label_wise_jainil/1/labels'\n",
    "\n",
    "# Function to get filenames (without extension) from a folder\n",
    "def get_filenames(folder, extension):\n",
    "    return [os.path.splitext(os.path.basename(f))[0] for f in glob.glob(os.path.join(folder, f'*.{extension}'))]\n",
    "\n",
    "# Get filenames from the image and label folders\n",
    "image_names = get_filenames(image_folder, 'jpg')\n",
    "label_names = get_filenames(label_folder, 'txt')\n",
    "\n",
    "# Create DataFrames for comparison\n",
    "df_images = pd.DataFrame({'filename': image_names, 'type': 'image'})\n",
    "df_labels = pd.DataFrame({'filename': label_names, 'type': 'label'})\n",
    "\n",
    "\n",
    "image_names = df_images[\"filename\"].to_list()\n",
    "label_names = df_labels[\"filename\"].to_list()\n",
    "\n",
    "print(len(image_names))\n",
    "print(len(label_names))\n",
    "\n",
    "# Find differences\n",
    "image_diff = set(image_names) - set(label_names)\n",
    "label_diff = set(label_names) - set(image_names)\n",
    "\n",
    "print(f'Images not having corresponding labels: {len(image_diff)}')\n",
    "print(f'Labels not having corresponding images: {len(label_diff)}')\n",
    "\n"
   ]
  },
  {
   "cell_type": "code",
   "execution_count": 34,
   "metadata": {},
   "outputs": [
    {
     "name": "stdout",
     "output_type": "stream",
     "text": [
      "11225\n",
      "11225\n",
      "Images not having corresponding labels: 4\n",
      "Labels not having corresponding images: 4\n"
     ]
    }
   ],
   "source": [
    "import pandas as pd\n",
    "import glob\n",
    "import os\n",
    "\n",
    "# Define the paths to the image and label folders\n",
    "image_folder = '/mnt/storage/backup/label_wise_jainil/2/images'\n",
    "label_folder = '/mnt/storage/backup/label_wise_jainil/2/labels'\n",
    "\n",
    "# Function to get filenames (without extension) from a folder\n",
    "def get_filenames(folder, extension):\n",
    "    return [os.path.splitext(os.path.basename(f))[0] for f in glob.glob(os.path.join(folder, f'*.{extension}'))]\n",
    "\n",
    "# Get filenames from the image and label folders\n",
    "image_names = get_filenames(image_folder, 'jpg')\n",
    "label_names = get_filenames(label_folder, 'txt')\n",
    "\n",
    "# Create DataFrames for comparison\n",
    "df_images = pd.DataFrame({'filename': image_names, 'type': 'image'})\n",
    "df_labels = pd.DataFrame({'filename': label_names, 'type': 'label'})\n",
    "\n",
    "\n",
    "image_names = df_images[\"filename\"].to_list()\n",
    "label_names = df_labels[\"filename\"].to_list()\n",
    "\n",
    "print(len(image_names))\n",
    "print(len(label_names))\n",
    "\n",
    "# Find differences\n",
    "image_diff = set(image_names) - set(label_names)\n",
    "label_diff = set(label_names) - set(image_names)\n",
    "\n",
    "print(f'Images not having corresponding labels: {len(image_diff)}')\n",
    "print(f'Labels not having corresponding images: {len(label_diff)}')"
   ]
  },
  {
   "cell_type": "code",
   "execution_count": 36,
   "metadata": {},
   "outputs": [
    {
     "name": "stdout",
     "output_type": "stream",
     "text": [
      "97453\n",
      "97453\n",
      "Images not having corresponding labels: 4\n",
      "Labels not having corresponding images: 4\n"
     ]
    }
   ],
   "source": [
    "import pandas as pd\n",
    "import glob\n",
    "import os\n",
    "\n",
    "# Define the paths to the image and label folders\n",
    "image_folder = '/mnt/storage/backup/label_wise_jainil/n/images'\n",
    "label_folder = '/mnt/storage/backup/label_wise_jainil/n/labels'\n",
    "\n",
    "# Function to get filenames (without extension) from a folder\n",
    "def get_filenames(folder, extension):\n",
    "    return [os.path.splitext(os.path.basename(f))[0] for f in glob.glob(os.path.join(folder, f'*.{extension}'))]\n",
    "\n",
    "# Get filenames from the image and label folders\n",
    "image_names = get_filenames(image_folder, 'jpg')\n",
    "label_names = get_filenames(label_folder, 'txt')\n",
    "\n",
    "# Create DataFrames for comparison\n",
    "df_images = pd.DataFrame({'filename': image_names, 'type': 'image'})\n",
    "df_labels = pd.DataFrame({'filename': label_names, 'type': 'label'})\n",
    "\n",
    "\n",
    "image_names = df_images[\"filename\"].to_list()\n",
    "label_names = df_labels[\"filename\"].to_list()\n",
    "\n",
    "print(len(image_names))\n",
    "print(len(label_names))\n",
    "\n",
    "# Find differences\n",
    "image_diff = set(image_names) - set(label_names)\n",
    "label_diff = set(label_names) - set(image_names)\n",
    "\n",
    "print(f'Images not having corresponding labels: {len(image_diff)}')\n",
    "print(f'Labels not having corresponding images: {len(label_diff)}')"
   ]
  },
  {
   "cell_type": "code",
   "execution_count": 39,
   "metadata": {},
   "outputs": [
    {
     "name": "stdout",
     "output_type": "stream",
     "text": [
      "4000\n",
      "4000\n",
      "Images not having corresponding labels: 0\n",
      "Labels not having corresponding images: 0\n"
     ]
    }
   ],
   "source": [
    "import pandas as pd\n",
    "import glob\n",
    "import os\n",
    "\n",
    "# Define the paths to the image and label folders\n",
    "image_folder = '/mnt/storage/kilsar_jainil/youtube/YouTube-GDD/images/train/'\n",
    "label_folder = '/mnt/storage/kilsar_jainil/youtube/YouTube-GDD/labels/train/'\n",
    "\n",
    "# Function to get filenames (without extension) from a folder\n",
    "def get_filenames(folder, extension):\n",
    "    return [os.path.splitext(os.path.basename(f))[0] for f in glob.glob(os.path.join(folder, f'*.{extension}'))]\n",
    "\n",
    "# Get filenames from the image and label folders\n",
    "image_names = get_filenames(image_folder, 'jpg')\n",
    "label_names = get_filenames(label_folder, 'txt')\n",
    "\n",
    "# Create DataFrames for comparison\n",
    "df_images = pd.DataFrame({'filename': image_names, 'type': 'image'})\n",
    "df_labels = pd.DataFrame({'filename': label_names, 'type': 'label'})\n",
    "\n",
    "\n",
    "image_names = df_images[\"filename\"].to_list()\n",
    "label_names = df_labels[\"filename\"].to_list()\n",
    "\n",
    "print(len(image_names))\n",
    "print(len(label_names))\n",
    "\n",
    "# Find differences\n",
    "image_diff = set(image_names) - set(label_names)\n",
    "label_diff = set(label_names) - set(image_names)\n",
    "\n",
    "print(f'Images not having corresponding labels: {len(image_diff)}')\n",
    "print(f'Labels not having corresponding images: {len(label_diff)}')"
   ]
  },
  {
   "cell_type": "code",
   "execution_count": 41,
   "metadata": {},
   "outputs": [
    {
     "name": "stdout",
     "output_type": "stream",
     "text": [
      "8226\n",
      "8226\n",
      "Images not having corresponding labels: 1640\n",
      "Labels not having corresponding images: 1640\n"
     ]
    }
   ],
   "source": [
    "import pandas as pd\n",
    "import glob\n",
    "import os\n",
    "\n",
    "# Define the paths to the image and label folders\n",
    "image_folder = '/home/research/kilasar_sentinal_wepon_detection/data/0/train/images/'\n",
    "label_folder = '/home/research/kilasar_sentinal_wepon_detection/data/0/train/labels/'\n",
    "\n",
    "# Function to get filenames (without extension) from a folder\n",
    "def get_filenames(folder, extension):\n",
    "    return [os.path.splitext(os.path.basename(f))[0] for f in glob.glob(os.path.join(folder, f'*.{extension}'))]\n",
    "\n",
    "# Get filenames from the image and label folders\n",
    "image_names = get_filenames(image_folder, 'jpg')\n",
    "label_names = get_filenames(label_folder, 'txt')\n",
    "\n",
    "# Create DataFrames for comparison\n",
    "df_images = pd.DataFrame({'filename': image_names, 'type': 'image'})\n",
    "df_labels = pd.DataFrame({'filename': label_names, 'type': 'label'})\n",
    "\n",
    "\n",
    "image_names = df_images[\"filename\"].to_list()\n",
    "label_names = df_labels[\"filename\"].to_list()\n",
    "\n",
    "print(len(image_names))\n",
    "print(len(label_names))\n",
    "\n",
    "# Find differences\n",
    "image_diff = set(image_names) - set(label_names)\n",
    "label_diff = set(label_names) - set(image_names)\n",
    "\n",
    "print(f'Images not having corresponding labels: {len(image_diff)}')\n",
    "print(f'Labels not having corresponding images: {len(label_diff)}')\n",
    "\n"
   ]
  },
  {
   "cell_type": "code",
   "execution_count": null,
   "metadata": {},
   "outputs": [],
   "source": []
  }
 ],
 "metadata": {
  "kernelspec": {
   "display_name": ".venv",
   "language": "python",
   "name": "python3"
  },
  "language_info": {
   "codemirror_mode": {
    "name": "ipython",
    "version": 3
   },
   "file_extension": ".py",
   "mimetype": "text/x-python",
   "name": "python",
   "nbconvert_exporter": "python",
   "pygments_lexer": "ipython3",
   "version": "3.11.7"
  }
 },
 "nbformat": 4,
 "nbformat_minor": 2
}
