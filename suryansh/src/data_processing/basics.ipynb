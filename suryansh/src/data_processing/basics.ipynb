{
 "cells": [
  {
   "cell_type": "markdown",
   "metadata": {},
   "source": [
    "Get the number of CPU cores"
   ]
  },
  {
   "cell_type": "code",
   "execution_count": null,
   "metadata": {},
   "outputs": [],
   "source": [
    "import os\n",
    "num_cores = os.cpu_count()\n",
    "print(f\"Number of CPU cores: {num_cores}\")"
   ]
  },
  {
   "cell_type": "markdown",
   "metadata": {},
   "source": [
    "count no of files"
   ]
  },
  {
   "cell_type": "code",
   "execution_count": 1,
   "metadata": {},
   "outputs": [
    {
     "name": "stdout",
     "output_type": "stream",
     "text": [
      "Number of files: 4000\n"
     ]
    }
   ],
   "source": [
    "import os\n",
    "def count_files_in_folder(folder_path):\n",
    "    return len([file for file in os.listdir(folder_path) if os.path.isfile(os.path.join(folder_path, file))])\n",
    "\n",
    "folder_path = '/mnt/storage/kilsar_jainil/archive-3/archive-3/dataset/dataset/labels/train/'\n",
    "print(f\"Number of files: {count_files_in_folder(folder_path)}\") "
   ]
  },
  {
   "cell_type": "markdown",
   "metadata": {},
   "source": [
    "GPU info"
   ]
  },
  {
   "cell_type": "code",
   "execution_count": 1,
   "metadata": {},
   "outputs": [
    {
     "name": "stdout",
     "output_type": "stream",
     "text": [
      "True\n",
      "0\n",
      "4\n",
      "NVIDIA A40\n"
     ]
    }
   ],
   "source": [
    "import torch\n",
    "print(torch.cuda.is_available())\n",
    "print(torch.cuda.current_device())\n",
    "print(torch.cuda.device_count())\n",
    "print(torch.cuda.get_device_name(0))"
   ]
  },
  {
   "cell_type": "markdown",
   "metadata": {},
   "source": [
    "### count no of unique labels -- Cost Heavy "
   ]
  },
  {
   "cell_type": "code",
   "execution_count": 3,
   "metadata": {},
   "outputs": [
    {
     "name": "stdout",
     "output_type": "stream",
     "text": [
      "Unique classes: {0}\n"
     ]
    }
   ],
   "source": [
    "import os\n",
    "from concurrent.futures import ProcessPoolExecutor\n",
    "from pathlib import Path\n",
    "\n",
    "# Function to extract unique classes from a single label file\n",
    "def extract_classes_from_file(file_path):\n",
    "    classes = set()\n",
    "    with open(file_path, 'r') as f:\n",
    "        for line in f:\n",
    "            class_idx = int(line.split()[0])  # Class index is the first value in the YOLO format and assume to be int \n",
    "            classes.add(class_idx)\n",
    "    return classes\n",
    "\n",
    "# Function to combine all sets of classes from different files\n",
    "def combine_unique_classes(results):\n",
    "    combined_classes = set()\n",
    "    for result in results:\n",
    "        combined_classes.update(result)\n",
    "    return combined_classes\n",
    "\n",
    "# Main function to process label files using a Process Pool\n",
    "def process_labels_in_parallel(label_dir, num_cores=60):\n",
    "    # Get all label files from the directory\n",
    "    label_files = list(Path(label_dir).rglob('*.txt'))  # Assuming .txt files for YOLO labels\n",
    "\n",
    "    # Use ProcessPoolExecutor to process files in parallel\n",
    "    with ProcessPoolExecutor(max_workers=num_cores) as executor:\n",
    "        # Map the extract_classes_from_file function to each file\n",
    "        results = list(executor.map(extract_classes_from_file, label_files))\n",
    "\n",
    "    # Combine the results (sets of classes)\n",
    "    unique_classes = combine_unique_classes(results)\n",
    "    return unique_classes\n",
    "\n",
    "\n",
    "label_directory = \"/mnt/storage/kilsar_jainil/train/Train/labels2\" # Replace with your label file directory path\n",
    "unique_classes = process_labels_in_parallel(label_directory) \n",
    "\n",
    "# Print the unique classes\n",
    "print(f\"Unique classes: {unique_classes}\")\n"
   ]
  },
  {
   "cell_type": "code",
   "execution_count": null,
   "metadata": {},
   "outputs": [],
   "source": []
  }
 ],
 "metadata": {
  "kernelspec": {
   "display_name": ".venv",
   "language": "python",
   "name": "python3"
  },
  "language_info": {
   "codemirror_mode": {
    "name": "ipython",
    "version": 3
   },
   "file_extension": ".py",
   "mimetype": "text/x-python",
   "name": "python",
   "nbconvert_exporter": "python",
   "pygments_lexer": "ipython3",
   "version": "3.11.9"
  }
 },
 "nbformat": 4,
 "nbformat_minor": 2
}
