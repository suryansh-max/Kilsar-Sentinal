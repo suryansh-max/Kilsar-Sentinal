{
 "cells": [
  {
   "cell_type": "markdown",
   "metadata": {},
   "source": [
    "code copy and filter data to eliminate knife class"
   ]
  },
  {
   "cell_type": "code",
   "execution_count": 5,
   "metadata": {},
   "outputs": [
    {
     "name": "stdout",
     "output_type": "stream",
     "text": [
      "Processing complete.\n"
     ]
    }
   ],
   "source": [
    "import os\n",
    "import glob\n",
    "from multiprocessing import Pool, cpu_count\n",
    "\n",
    "# Define the directory containing the label files\n",
    "label_directory = '/mnt/storage/kilsar_jainil/archive-3/archive-3/dataset/dataset/labels/labels/train/'\n",
    "\n",
    "# Function to process a single file\n",
    "def process_file(file_path):\n",
    "    with open(file_path, 'r') as file:\n",
    "        lines = file.readlines()\n",
    "\n",
    "    new_lines = []\n",
    "    for line in lines:\n",
    "        class_id = line.split()[0]\n",
    "        if class_id == '0':\n",
    "            continue  # Remove class 0\n",
    "        elif class_id == '1':\n",
    "            new_line = line.replace('1', '0', 1)\n",
    "            new_lines.append(new_line)\n",
    "        else:\n",
    "            new_lines.append(line)\n",
    "\n",
    "    with open(file_path, 'w') as file:\n",
    "        file.writelines(new_lines)\n",
    "\n",
    "# Get all label files\n",
    "label_files = glob.glob(os.path.join(label_directory, '*.txt'))\n",
    "\n",
    "# Limit number of cores to 32\n",
    "num_cores = min(60, cpu_count())\n",
    "\n",
    "# Use a process pool to process files in parallel with limited cores\n",
    "if __name__ == '__main__':\n",
    "    with Pool(num_cores) as pool:\n",
    "        pool.map(process_file, label_files)\n",
    "\n",
    "    print(\"Processing complete.\")\n"
   ]
  }
 ],
 "metadata": {
  "kernelspec": {
   "display_name": ".venv",
   "language": "python",
   "name": "python3"
  },
  "language_info": {
   "codemirror_mode": {
    "name": "ipython",
    "version": 3
   },
   "file_extension": ".py",
   "mimetype": "text/x-python",
   "name": "python",
   "nbconvert_exporter": "python",
   "pygments_lexer": "ipython3",
   "version": "3.11.7"
  }
 },
 "nbformat": 4,
 "nbformat_minor": 2
}
