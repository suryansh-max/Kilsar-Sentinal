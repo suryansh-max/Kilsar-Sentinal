{
 "cells": [
  {
   "cell_type": "markdown",
   "metadata": {},
   "source": [
    "Build A plane yolo model "
   ]
  },
  {
   "cell_type": "code",
   "execution_count": null,
   "metadata": {},
   "outputs": [],
   "source": [
    "from torch.optim import SGD\n",
    "\n",
    "# Define the learning rate (adjust the value as needed)\n",
    "learning_rate = 0.01\n",
    "\n",
    "# Create the optimizer with learning rate\n",
    "optimizer = SGD(model.parameters(), lr=learning_rate)"
   ]
  },
  {
   "cell_type": "markdown",
   "metadata": {},
   "source": [
    "Mahmmad  Start this"
   ]
  },
  {
   "cell_type": "code",
   "execution_count": null,
   "metadata": {},
   "outputs": [],
   "source": [
    "#imports\n",
    "import os\n",
    "import torch\n",
    "from ultralytics import YOLO\n",
    "\n",
    "data_path = '/home/research/kilasar_sentinal_wepon_detection/suryansh/outsiside_data/outside_data.yaml'\n",
    "\n",
    "os.environ[\"WANDB_MODE\"] = \"dryrun\"\n",
    "\n",
    "# Build a YOLOv9c model from pretrained weight\n",
    "model = YOLO('/home/research/kilasar_sentinal_wepon_detection/suryansh/runs/detect/train7/weights/best.pt')\n",
    "\n",
    "LOGICAL = \"1\"\n",
    "device = torch.device(f'cuda:{LOGICAL}' if torch.cuda.is_available() else 'cpu')\n",
    "model.to(device)\n",
    "\n",
    "# Display model information (optional)\n",
    "model.info()\n",
    "\n",
    "# Train the model for 2 epochs\n",
    "results = model.train(data=data_path, epochs=120, imgsz=640, batch=15, save_period=10)"
   ]
  }
 ],
 "metadata": {
  "kernelspec": {
   "display_name": ".venv",
   "language": "python",
   "name": "python3"
  },
  "language_info": {
   "codemirror_mode": {
    "name": "ipython",
    "version": 3
   },
   "file_extension": ".py",
   "mimetype": "text/x-python",
   "name": "python",
   "nbconvert_exporter": "python",
   "pygments_lexer": "ipython3",
   "version": "3.11.7"
  }
 },
 "nbformat": 4,
 "nbformat_minor": 2
}
