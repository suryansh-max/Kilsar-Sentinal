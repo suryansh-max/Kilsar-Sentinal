{
 "cells": [
  {
   "cell_type": "markdown",
   "metadata": {},
   "source": [
    "/mnt/storage/kilsar_jainil/youtube/YouTube-GDD/\n",
    "\n",
    "labels are edited class 0 is guns and only 1 class is there"
   ]
  },
  {
   "cell_type": "code",
   "execution_count": 2,
   "metadata": {},
   "outputs": [],
   "source": [
    "import shutil\n",
    "import os\n",
    "from concurrent.futures import ProcessPoolExecutor\n",
    "\n",
    "def copy_dir(src, dest):\n",
    "    try:\n",
    "        shutil.copytree(src, dest)\n",
    "        print(f\"Copied {src} to {dest}\")\n",
    "    except Exception as e:\n",
    "        print(f\"Error copying {src} to {dest}: {e}\")\n",
    "\n",
    "def main(source_folder, destination_folder, num_workers=60):\n",
    "    # Create the destination folder if it doesn't exist\n",
    "    os.makedirs(destination_folder, exist_ok=True)\n",
    "    \n",
    "    # List all directories in the source folder\n",
    "    dirs = [d for d in os.listdir(source_folder) if os.path.isdir(os.path.join(source_folder, d))]\n",
    "    \n",
    "    # Create source and destination paths\n",
    "    tasks = [(os.path.join(source_folder, d), os.path.join(destination_folder, d)) for d in dirs]\n",
    "\n",
    "    # Use ProcessPoolExecutor to copy directories in parallel\n",
    "    with ProcessPoolExecutor(max_workers=num_workers) as executor:\n",
    "        executor.map(lambda p: copy_dir(*p), tasks)\n",
    "\n",
    "\n",
    "source_folder = \"/mnt/storage/kilsar_jainil/youtube/YouTube-GDD/labels/\"\n",
    "destination_folder = \"/mnt/storage/kilsar_jainil/youtube/YouTube-GDD/labels2/\"\n",
    "main(source_folder, destination_folder)\n"
   ]
  },
  {
   "cell_type": "markdown",
   "metadata": {},
   "source": [
    "change labels of guns to 0 and deleting person labels"
   ]
  },
  {
   "cell_type": "code",
   "execution_count": 2,
   "metadata": {},
   "outputs": [],
   "source": [
    "import os\n",
    "from concurrent.futures import ProcessPoolExecutor\n",
    "\n",
    "def process_label_file(file_path):\n",
    "    try:\n",
    "        # Read the content of the file\n",
    "        with open(file_path, 'r') as file:\n",
    "            lines = file.readlines()\n",
    "\n",
    "        # Process each line\n",
    "        new_lines = []\n",
    "        for line in lines:\n",
    "            parts = line.strip().split()\n",
    "            class_id = int(parts[0])\n",
    "            if class_id == 0:\n",
    "                continue  # Remove class 0\n",
    "            new_class_id = class_id - 1  # Decrement class id by 1\n",
    "            new_line = ' '.join([str(new_class_id)] + parts[1:])\n",
    "            new_lines.append(new_line + '\\n')\n",
    "\n",
    "        # Write the new content back to the file\n",
    "        with open(file_path, 'w') as file:\n",
    "            file.writelines(new_lines)\n",
    "\n",
    "        # print(f\"Processed {file_path}\")\n",
    "    except Exception as e:\n",
    "        print(f\"Error processing {file_path}: {e}\")\n",
    "\n",
    "def main(labels_folder, num_workers=60):\n",
    "    # List all label files\n",
    "    label_files = [os.path.join(labels_folder, f) for f in os.listdir(labels_folder) if f.endswith('.txt')]\n",
    "\n",
    "    # Use ProcessPoolExecutor to process files in parallel\n",
    "    with ProcessPoolExecutor(max_workers=num_workers) as executor:\n",
    "        executor.map(process_label_file, label_files)\n",
    "\n",
    "if __name__ == \"__main__\":\n",
    "    labels_folder = '/mnt/storage/kilsar_jainil/archive-3/archive-3/dataset/dataset/labels/labels/val/'\n",
    "    main(labels_folder)\n"
   ]
  }
 ],
 "metadata": {
  "kernelspec": {
   "display_name": ".venv",
   "language": "python",
   "name": "python3"
  },
  "language_info": {
   "codemirror_mode": {
    "name": "ipython",
    "version": 3
   },
   "file_extension": ".py",
   "mimetype": "text/x-python",
   "name": "python",
   "nbconvert_exporter": "python",
   "pygments_lexer": "ipython3",
   "version": "3.11.7"
  }
 },
 "nbformat": 4,
 "nbformat_minor": 2
}
